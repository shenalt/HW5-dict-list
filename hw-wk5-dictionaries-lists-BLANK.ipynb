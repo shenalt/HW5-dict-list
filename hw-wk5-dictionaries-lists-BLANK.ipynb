{
 "cells": [
  {
   "cell_type": "markdown",
   "id": "Qim5YnoxEywd",
   "metadata": {
    "id": "Qim5YnoxEywd"
   },
   "source": [
    "# Homework for Week 5\n",
    "\n",
    "The goal for this homework is to see the relevant journalistic uses for what we learned in class in week 4.\n",
    "\n",
    "1. create lists and dictionaries\n",
    "2. access specific data within our lists and dictionaries,\n",
    "3. break down larger datasets into smaller chunks (subset),\n"
   ]
  },
  {
   "cell_type": "markdown",
   "id": "-zKj7Eyo2OS7",
   "metadata": {
    "id": "-zKj7Eyo2OS7"
   },
   "source": [
    "### Q. 1 Creating Lists\n",
    "\n",
    "You've <a href=\"https://apps.health.ny.gov/pubdoh/professionals/doctors/conduct/factions/AllRecordsAction.action?\">scraped thousands of documents</a> that contain disciplinary actions against doctors in New York state. You compile key words and phrases that will target certain types of violations. These include:\n",
    "\n",
    "- improper touching\n",
    "- self-medication\n",
    "- self-prescribing\n",
    "- opioid addiction\n",
    "- harassment\n",
    "- coercion\n",
    "- sexual harrassment\n",
    "- sex\n",
    "- sexual favor\n",
    "- abuse of trust\n",
    "- opioid prescriptions in return for sex\n",
    "\n",
    "Create a list called ```search_terms``` that holds the search terms above.\n",
    "\n",
    "\n"
   ]
  },
  {
   "cell_type": "code",
   "execution_count": 1,
   "id": "qS2BIqEV2Nte",
   "metadata": {
    "colab": {
     "base_uri": "https://localhost:8080/"
    },
    "id": "qS2BIqEV2Nte",
    "outputId": "bdf96d2f-773e-4008-fe14-83e2dad6db3d"
   },
   "outputs": [],
   "source": [
    "## create the list here (create more cells if necessary)\n",
    "search_terms = [\n",
    "    'improper touching',\n",
    "    'self-medication',\n",
    "    'self-prescribing',\n",
    "    'opioid addiction',\n",
    "    'harassment',\n",
    "    'coercion',\n",
    "    'sexual harrassment',\n",
    "    'sex',\n",
    "    'sexual favor',\n",
    "    'abuse of trust',\n",
    "    'opioid prescriptions in return for sex',\n",
    "]"
   ]
  },
  {
   "cell_type": "markdown",
   "id": "x2TbMdx23bBb",
   "metadata": {
    "id": "x2TbMdx23bBb"
   },
   "source": [
    "### Q. 2 Datatype\n",
    "\n",
    "What type of a data object is ```search_term```"
   ]
  },
  {
   "cell_type": "code",
   "execution_count": 2,
   "id": "eOECcrDS49qy",
   "metadata": {
    "id": "eOECcrDS49qy"
   },
   "outputs": [
    {
     "name": "stdout",
     "output_type": "stream",
     "text": [
      "<class 'list'>\n"
     ]
    },
    {
     "data": {
      "text/plain": [
       "str"
      ]
     },
     "execution_count": 2,
     "metadata": {},
     "output_type": "execute_result"
    }
   ],
   "source": [
    "## code here\n",
    "print(type(search_terms))\n",
    "type(search_terms[0])"
   ]
  },
  {
   "cell_type": "markdown",
   "id": "QuAdDiUJ5JPQ",
   "metadata": {
    "id": "QuAdDiUJ5JPQ"
   },
   "source": [
    "### Q. 3 Length\n",
    "\n",
    "How long is this list?"
   ]
  },
  {
   "cell_type": "code",
   "execution_count": 3,
   "id": "rEIJgWcIHW7o",
   "metadata": {
    "id": "rEIJgWcIHW7o"
   },
   "outputs": [
    {
     "data": {
      "text/plain": [
       "11"
      ]
     },
     "execution_count": 3,
     "metadata": {},
     "output_type": "execute_result"
    }
   ],
   "source": [
    "## code it here\n",
    "len(search_terms)"
   ]
  },
  {
   "cell_type": "markdown",
   "id": "1l-qYee45N1t",
   "metadata": {
    "id": "1l-qYee45N1t"
   },
   "source": [
    "### Q. 4 Building dictionaries\n",
    "\n",
    "Create a list of dictionaries called \"donations\" using the content from the image below:\n",
    "\n",
    "<img src=\"https://sandeepmj.github.io/image-host/donors.png\">\n",
    "\n",
    "## If you want to copy and paste the content, click <a href=\"https://docs.google.com/spreadsheets/d/17JBUMJpAiMz5WavglaE3HLHijRxHHJUd/edit?usp=sharing&ouid=107646296031550187966&rtpof=true&sd=true\" target=\"blank\">here</a> to download the Excel file.\n",
    "\n",
    "\n",
    "You may copy and paste the contents of each cell in the XLSX file, but type out all the code required to build the list of dictionaries.\n",
    "\n",
    "\n"
   ]
  },
  {
   "cell_type": "code",
   "execution_count": 4,
   "id": "ThWj1W4aHfnH",
   "metadata": {
    "id": "ThWj1W4aHfnH"
   },
   "outputs": [],
   "source": [
    "## code it here\n",
    "dict1 = {\n",
    "    \"year\": 2017,\n",
    "    \"donor\": 'David H Koch Charitable Foundation',\n",
    "    \"grantee\": 'City Center for Music And Drama',\n",
    "    \"amount\": 15_000_000,\n",
    "}\n",
    "\n",
    "dict2 = {\n",
    "    \"year\": 2013,\n",
    "    \"donor\": 'Bradley Impact Fund Inc',\n",
    "    \"grantee\": 'Young Americas Foundation',\n",
    "    \"amount\": 11_000,\n",
    "}\n",
    "\n",
    "dict3 = {\n",
    "    \"year\": 2016,\n",
    "    \"donor\": 'Mercer Family Foundation',\n",
    "    \"grantee\": 'The Becket Fund',\n",
    "    \"amount\": 250_000,\n",
    "}\n",
    "\n",
    "dict4 = {\n",
    "    \"year\": 2012,\n",
    "    \"donor\": 'Charles Koch Foundation',\n",
    "    \"grantee\": 'The Phillips Foundation',\n",
    "    \"amount\": 25_000,\n",
    "}\n",
    "\n",
    "dict5 = {\n",
    "    \"year\": 2017,\n",
    "    \"donor\": 'Barbara And Barre Seid Foundation',\n",
    "    \"grantee\": 'Boy Scouts of America',\n",
    "    \"amount\": 2_634_600,\n",
    "}\n",
    "\n",
    "donations = [dict1, dict2, dict3, dict4, dict5]"
   ]
  },
  {
   "cell_type": "code",
   "execution_count": 5,
   "id": "C2RLGEfKID2K",
   "metadata": {
    "colab": {
     "base_uri": "https://localhost:8080/"
    },
    "id": "C2RLGEfKID2K",
    "outputId": "4a274226-3a05-4e21-d323-e1700cf4944c"
   },
   "outputs": [
    {
     "name": "stdout",
     "output_type": "stream",
     "text": [
      "[{'year': 2017, 'donor': 'David H Koch Charitable Foundation', 'grantee': 'City Center for Music And Drama', 'amount': 15000000}, {'year': 2013, 'donor': 'Bradley Impact Fund Inc', 'grantee': 'Young Americas Foundation', 'amount': 11000}, {'year': 2016, 'donor': 'Mercer Family Foundation', 'grantee': 'The Becket Fund', 'amount': 250000}, {'year': 2012, 'donor': 'Charles Koch Foundation', 'grantee': 'The Phillips Foundation', 'amount': 25000}, {'year': 2017, 'donor': 'Barbara And Barre Seid Foundation', 'grantee': 'Boy Scouts of America', 'amount': 2634600}]\n"
     ]
    }
   ],
   "source": [
    "## print the list of dictionaries\n",
    "\n",
    "print(donations)"
   ]
  },
  {
   "cell_type": "code",
   "execution_count": 6,
   "id": "YeHJHrdWII1K",
   "metadata": {
    "colab": {
     "base_uri": "https://localhost:8080/"
    },
    "id": "YeHJHrdWII1K",
    "outputId": "b3208803-b4e8-4530-ae65-919bb8d1b846"
   },
   "outputs": [
    {
     "data": {
      "text/plain": [
       "[{'year': 2017,\n",
       "  'donor': 'David H Koch Charitable Foundation',\n",
       "  'grantee': 'City Center for Music And Drama',\n",
       "  'amount': 15000000},\n",
       " {'year': 2013,\n",
       "  'donor': 'Bradley Impact Fund Inc',\n",
       "  'grantee': 'Young Americas Foundation',\n",
       "  'amount': 11000},\n",
       " {'year': 2016,\n",
       "  'donor': 'Mercer Family Foundation',\n",
       "  'grantee': 'The Becket Fund',\n",
       "  'amount': 250000},\n",
       " {'year': 2012,\n",
       "  'donor': 'Charles Koch Foundation',\n",
       "  'grantee': 'The Phillips Foundation',\n",
       "  'amount': 25000},\n",
       " {'year': 2017,\n",
       "  'donor': 'Barbara And Barre Seid Foundation',\n",
       "  'grantee': 'Boy Scouts of America',\n",
       "  'amount': 2634600}]"
      ]
     },
     "execution_count": 6,
     "metadata": {},
     "output_type": "execute_result"
    }
   ],
   "source": [
    "## call donations\n",
    "\n",
    "donations"
   ]
  },
  {
   "cell_type": "markdown",
   "id": "7d870ac5-bbcc-45fc-9223-e2184aed39e3",
   "metadata": {},
   "source": [
    "#### Notice the difference between ```print()``` and ```calling```?"
   ]
  },
  {
   "cell_type": "code",
   "execution_count": 7,
   "id": "gZ-pbtLLIaTn",
   "metadata": {
    "colab": {
     "base_uri": "https://localhost:8080/"
    },
    "id": "gZ-pbtLLIaTn",
    "outputId": "ad9a72f7-58d4-4a6f-fe99-d52fa4fa6c99"
   },
   "outputs": [
    {
     "name": "stdout",
     "output_type": "stream",
     "text": [
      "5\n"
     ]
    }
   ],
   "source": [
    "## How many items are in this list?\n",
    "## Don't just manually count them.\n",
    "## There will come a time when you will have thousands of items!\n",
    "print(len(donations))"
   ]
  },
  {
   "cell_type": "markdown",
   "id": "J2Mf4b3sPvLg",
   "metadata": {
    "id": "J2Mf4b3sPvLg"
   },
   "source": [
    "# Slicing\n",
    "## Natural disasters list\n",
    "\n",
    "The Small Business Administration has a list of natural disasters that cause extensive economic damage. Run the next cell to pull the list into memory"
   ]
  },
  {
   "cell_type": "code",
   "execution_count": 8,
   "id": "lk8GeCDvPvLg",
   "metadata": {
    "id": "lk8GeCDvPvLg"
   },
   "outputs": [],
   "source": [
    "disasters = [\n",
    "        \"Landslides\",\n",
    "        \"Earthquake\",\n",
    "        \"Wildfires\",\n",
    "        \"Tornadoes\",\n",
    "        \"Hurricane\",\n",
    "        \"Wind Storm\",\n",
    "        \"Winter Freeze\",\n",
    "        \"Ice Storm\",\n",
    "        \"Drought\",\n",
    "        \"Tsunami\",\n",
    "        \"Flash floods\",\n",
    "        \"Mudslides\",\n",
    "        \"Torrential rainfall\",\n",
    "        \"Riverine floods\",\n",
    "        \"Tidal Surge\"\n",
    "         ]"
   ]
  },
  {
   "cell_type": "code",
   "execution_count": 9,
   "id": "AJE4jVfQPvLh",
   "metadata": {
    "colab": {
     "base_uri": "https://localhost:8080/"
    },
    "id": "AJE4jVfQPvLh",
    "outputId": "0892d248-574d-4cf6-9ad1-ce21b60eba2d"
   },
   "outputs": [
    {
     "data": {
      "text/plain": [
       "['Landslides',\n",
       " 'Earthquake',\n",
       " 'Wildfires',\n",
       " 'Tornadoes',\n",
       " 'Hurricane',\n",
       " 'Wind Storm',\n",
       " 'Winter Freeze',\n",
       " 'Ice Storm',\n",
       " 'Drought',\n",
       " 'Tsunami',\n",
       " 'Flash floods',\n",
       " 'Mudslides',\n",
       " 'Torrential rainfall',\n",
       " 'Riverine floods',\n",
       " 'Tidal Surge']"
      ]
     },
     "execution_count": 9,
     "metadata": {},
     "output_type": "execute_result"
    }
   ],
   "source": [
    "## call the disaster list here\n",
    "disasters"
   ]
  },
  {
   "cell_type": "code",
   "execution_count": 10,
   "id": "EvzyETnYPvLh",
   "metadata": {
    "colab": {
     "base_uri": "https://localhost:8080/",
     "height": 35
    },
    "id": "EvzyETnYPvLh",
    "outputId": "d733c3e0-6c0d-4393-eed3-00dc4fa77a4d"
   },
   "outputs": [
    {
     "data": {
      "text/plain": [
       "'Landslides'"
      ]
     },
     "execution_count": 10,
     "metadata": {},
     "output_type": "execute_result"
    }
   ],
   "source": [
    "## the first item in the list\n",
    "disasters[0]"
   ]
  },
  {
   "cell_type": "code",
   "execution_count": 11,
   "id": "bOz8lgDCPvLh",
   "metadata": {
    "colab": {
     "base_uri": "https://localhost:8080/",
     "height": 35
    },
    "id": "bOz8lgDCPvLh",
    "outputId": "8a6cb034-2986-4b0b-a2a4-369317d37ac5"
   },
   "outputs": [
    {
     "data": {
      "text/plain": [
       "'Tidal Surge'"
      ]
     },
     "execution_count": 11,
     "metadata": {},
     "output_type": "execute_result"
    }
   ],
   "source": [
    "## call the penultimate item (without manually counting the number of items)\n",
    "disasters[-1]"
   ]
  },
  {
   "cell_type": "markdown",
   "id": "8wWZaDxpPvLh",
   "metadata": {
    "id": "8wWZaDxpPvLh"
   },
   "source": [
    "### Clarification:\n",
    "\n",
    "For the next two questions, I am referring to numerical positions rather than zero-indexed positions. In other words, you will have to translate the numerical position into zero-indexed positions in your slicing."
   ]
  },
  {
   "cell_type": "code",
   "execution_count": 12,
   "id": "mN1kYkmcPvLh",
   "metadata": {
    "colab": {
     "base_uri": "https://localhost:8080/"
    },
    "id": "mN1kYkmcPvLh",
    "outputId": "c672d221-5490-4ec1-f433-1540ac7bb05b"
   },
   "outputs": [
    {
     "data": {
      "text/plain": [
       "['Wildfires', 'Tornadoes', 'Hurricane', 'Wind Storm']"
      ]
     },
     "execution_count": 12,
     "metadata": {},
     "output_type": "execute_result"
    }
   ],
   "source": [
    "## create a new list called disasters_subset that holds the 3rd to 6th items inclusive\n",
    "disasters_subset = disasters[2:6]\n",
    "disasters_subset"
   ]
  },
  {
   "cell_type": "code",
   "execution_count": 13,
   "id": "IyWaWlfuPvLh",
   "metadata": {
    "colab": {
     "base_uri": "https://localhost:8080/"
    },
    "id": "IyWaWlfuPvLh",
    "outputId": "c0cfb6d8-ed62-465a-f4f0-af153a2d2f96"
   },
   "outputs": [
    {
     "data": {
      "text/plain": [
       "['Earthquake',\n",
       " 'Wildfires',\n",
       " 'Tornadoes',\n",
       " 'Hurricane',\n",
       " 'Wind Storm',\n",
       " 'Winter Freeze',\n",
       " 'Ice Storm']"
      ]
     },
     "execution_count": 13,
     "metadata": {},
     "output_type": "execute_result"
    }
   ],
   "source": [
    "## create a new list called disasters_subset2 that holds the 2nd through 8th items\n",
    "disasters_subset2 = disasters[1:8]\n",
    "disasters_subset2"
   ]
  }
 ],
 "metadata": {
  "colab": {
   "provenance": []
  },
  "kernelspec": {
   "display_name": "Python 3 (ipykernel)",
   "language": "python",
   "name": "python3"
  },
  "language_info": {
   "codemirror_mode": {
    "name": "ipython",
    "version": 3
   },
   "file_extension": ".py",
   "mimetype": "text/x-python",
   "name": "python",
   "nbconvert_exporter": "python",
   "pygments_lexer": "ipython3",
   "version": "3.10.9"
  }
 },
 "nbformat": 4,
 "nbformat_minor": 5
}
